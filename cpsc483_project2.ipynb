{
 "cells": [
  {
   "cell_type": "markdown",
   "metadata": {
    "id": "y_n2YvaxknzL"
   },
   "source": [
    "### Zulema Perez\n",
    "\n",
    "### CPSC 483\n",
    "\n",
    "### Project 2: NumPy, Polynomial Regression, and Training vs. Test MSE"
   ]
  },
  {
   "cell_type": "markdown",
   "metadata": {
    "id": "kia6ZUbmknzM"
   },
   "source": [
    "## Experiment 1\n",
    "\n",
    "Load and examine the Boston dataset's features, target values, description.\n"
   ]
  },
  {
   "cell_type": "markdown",
   "metadata": {
    "id": "ajBlv0FuSvjn"
   },
   "source": []
  },
  {
   "cell_type": "code",
   "execution_count": 1,
   "metadata": {
    "colab": {
     "base_uri": "https://localhost:8080/",
     "height": 884
    },
    "id": "EepxUkA8knzN",
    "outputId": "4dfacc2f-6b7d-4267-d8bb-6be3bd074781"
   },
   "outputs": [
    {
     "name": "stdout",
     "output_type": "stream",
     "text": [
      ".. _boston_dataset:\n",
      "\n",
      "Boston house prices dataset\n",
      "---------------------------\n",
      "\n",
      "**Data Set Characteristics:**  \n",
      "\n",
      "    :Number of Instances: 506 \n",
      "\n",
      "    :Number of Attributes: 13 numeric/categorical predictive. Median Value (attribute 14) is usually the target.\n",
      "\n",
      "    :Attribute Information (in order):\n",
      "        - CRIM     per capita crime rate by town\n",
      "        - ZN       proportion of residential land zoned for lots over 25,000 sq.ft.\n",
      "        - INDUS    proportion of non-retail business acres per town\n",
      "        - CHAS     Charles River dummy variable (= 1 if tract bounds river; 0 otherwise)\n",
      "        - NOX      nitric oxides concentration (parts per 10 million)\n",
      "        - RM       average number of rooms per dwelling\n",
      "        - AGE      proportion of owner-occupied units built prior to 1940\n",
      "        - DIS      weighted distances to five Boston employment centres\n",
      "        - RAD      index of accessibility to radial highways\n",
      "        - TAX      full-value property-tax rate per $10,000\n",
      "        - PTRATIO  pupil-teacher ratio by town\n",
      "        - B        1000(Bk - 0.63)^2 where Bk is the proportion of blacks by town\n",
      "        - LSTAT    % lower status of the population\n",
      "        - MEDV     Median value of owner-occupied homes in $1000's\n",
      "\n",
      "    :Missing Attribute Values: None\n",
      "\n",
      "    :Creator: Harrison, D. and Rubinfeld, D.L.\n",
      "\n",
      "This is a copy of UCI ML housing dataset.\n",
      "https://archive.ics.uci.edu/ml/machine-learning-databases/housing/\n",
      "\n",
      "\n",
      "This dataset was taken from the StatLib library which is maintained at Carnegie Mellon University.\n",
      "\n",
      "The Boston house-price data of Harrison, D. and Rubinfeld, D.L. 'Hedonic\n",
      "prices and the demand for clean air', J. Environ. Economics & Management,\n",
      "vol.5, 81-102, 1978.   Used in Belsley, Kuh & Welsch, 'Regression diagnostics\n",
      "...', Wiley, 1980.   N.B. Various transformations are used in the table on\n",
      "pages 244-261 of the latter.\n",
      "\n",
      "The Boston house-price data has been used in many machine learning papers that address regression\n",
      "problems.   \n",
      "     \n",
      ".. topic:: References\n",
      "\n",
      "   - Belsley, Kuh & Welsch, 'Regression diagnostics: Identifying Influential Data and Sources of Collinearity', Wiley, 1980. 244-261.\n",
      "   - Quinlan,R. (1993). Combining Instance-Based and Model-Based Learning. In Proceedings on the Tenth International Conference of Machine Learning, 236-243, University of Massachusetts, Amherst. Morgan Kaufmann.\n",
      "\n"
     ]
    }
   ],
   "source": [
    "%reset -f\n",
    "\n",
    "from sklearn import datasets\n",
    "import pandas as pd\n",
    "\n",
    "dataset_boston = datasets.load_boston()\n",
    "print(dataset_boston.DESCR)"
   ]
  },
  {
   "cell_type": "code",
   "execution_count": 2,
   "metadata": {
    "colab": {
     "base_uri": "https://localhost:8080/",
     "height": 204
    },
    "id": "sEgHTkoVknzR",
    "outputId": "5bcc8c7c-c711-47d9-e276-0122901dbda2"
   },
   "outputs": [
    {
     "data": {
      "text/html": [
       "<div>\n",
       "<style scoped>\n",
       "    .dataframe tbody tr th:only-of-type {\n",
       "        vertical-align: middle;\n",
       "    }\n",
       "\n",
       "    .dataframe tbody tr th {\n",
       "        vertical-align: top;\n",
       "    }\n",
       "\n",
       "    .dataframe thead th {\n",
       "        text-align: right;\n",
       "    }\n",
       "</style>\n",
       "<table border=\"1\" class=\"dataframe\">\n",
       "  <thead>\n",
       "    <tr style=\"text-align: right;\">\n",
       "      <th></th>\n",
       "      <th>CRIM</th>\n",
       "      <th>ZN</th>\n",
       "      <th>INDUS</th>\n",
       "      <th>CHAS</th>\n",
       "      <th>NOX</th>\n",
       "      <th>RM</th>\n",
       "      <th>AGE</th>\n",
       "      <th>DIS</th>\n",
       "      <th>RAD</th>\n",
       "      <th>TAX</th>\n",
       "      <th>PTRATIO</th>\n",
       "      <th>B</th>\n",
       "      <th>LSTAT</th>\n",
       "    </tr>\n",
       "  </thead>\n",
       "  <tbody>\n",
       "    <tr>\n",
       "      <th>0</th>\n",
       "      <td>0.00632</td>\n",
       "      <td>18.0</td>\n",
       "      <td>2.31</td>\n",
       "      <td>0.0</td>\n",
       "      <td>0.538</td>\n",
       "      <td>6.575</td>\n",
       "      <td>65.2</td>\n",
       "      <td>4.0900</td>\n",
       "      <td>1.0</td>\n",
       "      <td>296.0</td>\n",
       "      <td>15.3</td>\n",
       "      <td>396.90</td>\n",
       "      <td>4.98</td>\n",
       "    </tr>\n",
       "    <tr>\n",
       "      <th>1</th>\n",
       "      <td>0.02731</td>\n",
       "      <td>0.0</td>\n",
       "      <td>7.07</td>\n",
       "      <td>0.0</td>\n",
       "      <td>0.469</td>\n",
       "      <td>6.421</td>\n",
       "      <td>78.9</td>\n",
       "      <td>4.9671</td>\n",
       "      <td>2.0</td>\n",
       "      <td>242.0</td>\n",
       "      <td>17.8</td>\n",
       "      <td>396.90</td>\n",
       "      <td>9.14</td>\n",
       "    </tr>\n",
       "    <tr>\n",
       "      <th>2</th>\n",
       "      <td>0.02729</td>\n",
       "      <td>0.0</td>\n",
       "      <td>7.07</td>\n",
       "      <td>0.0</td>\n",
       "      <td>0.469</td>\n",
       "      <td>7.185</td>\n",
       "      <td>61.1</td>\n",
       "      <td>4.9671</td>\n",
       "      <td>2.0</td>\n",
       "      <td>242.0</td>\n",
       "      <td>17.8</td>\n",
       "      <td>392.83</td>\n",
       "      <td>4.03</td>\n",
       "    </tr>\n",
       "    <tr>\n",
       "      <th>3</th>\n",
       "      <td>0.03237</td>\n",
       "      <td>0.0</td>\n",
       "      <td>2.18</td>\n",
       "      <td>0.0</td>\n",
       "      <td>0.458</td>\n",
       "      <td>6.998</td>\n",
       "      <td>45.8</td>\n",
       "      <td>6.0622</td>\n",
       "      <td>3.0</td>\n",
       "      <td>222.0</td>\n",
       "      <td>18.7</td>\n",
       "      <td>394.63</td>\n",
       "      <td>2.94</td>\n",
       "    </tr>\n",
       "    <tr>\n",
       "      <th>4</th>\n",
       "      <td>0.06905</td>\n",
       "      <td>0.0</td>\n",
       "      <td>2.18</td>\n",
       "      <td>0.0</td>\n",
       "      <td>0.458</td>\n",
       "      <td>7.147</td>\n",
       "      <td>54.2</td>\n",
       "      <td>6.0622</td>\n",
       "      <td>3.0</td>\n",
       "      <td>222.0</td>\n",
       "      <td>18.7</td>\n",
       "      <td>396.90</td>\n",
       "      <td>5.33</td>\n",
       "    </tr>\n",
       "  </tbody>\n",
       "</table>\n",
       "</div>"
      ],
      "text/plain": [
       "      CRIM    ZN  INDUS  CHAS    NOX  ...  RAD    TAX  PTRATIO       B  LSTAT\n",
       "0  0.00632  18.0   2.31   0.0  0.538  ...  1.0  296.0     15.3  396.90   4.98\n",
       "1  0.02731   0.0   7.07   0.0  0.469  ...  2.0  242.0     17.8  396.90   9.14\n",
       "2  0.02729   0.0   7.07   0.0  0.469  ...  2.0  242.0     17.8  392.83   4.03\n",
       "3  0.03237   0.0   2.18   0.0  0.458  ...  3.0  222.0     18.7  394.63   2.94\n",
       "4  0.06905   0.0   2.18   0.0  0.458  ...  3.0  222.0     18.7  396.90   5.33\n",
       "\n",
       "[5 rows x 13 columns]"
      ]
     },
     "execution_count": 2,
     "metadata": {
      "tags": []
     },
     "output_type": "execute_result"
    }
   ],
   "source": [
    "import pandas as pd\n",
    "\n",
    "# Independent variables (features)\n",
    "df_boston_features = pd.DataFrame(data = dataset_boston.data, columns = dataset_boston.feature_names)\n",
    "df_boston_features.head()"
   ]
  },
  {
   "cell_type": "code",
   "execution_count": 3,
   "metadata": {
    "colab": {
     "base_uri": "https://localhost:8080/",
     "height": 204
    },
    "id": "XzltniM4knzU",
    "outputId": "89e43d79-92a8-42fd-fdc7-bb6d81bdc9c8"
   },
   "outputs": [
    {
     "data": {
      "text/html": [
       "<div>\n",
       "<style scoped>\n",
       "    .dataframe tbody tr th:only-of-type {\n",
       "        vertical-align: middle;\n",
       "    }\n",
       "\n",
       "    .dataframe tbody tr th {\n",
       "        vertical-align: top;\n",
       "    }\n",
       "\n",
       "    .dataframe thead th {\n",
       "        text-align: right;\n",
       "    }\n",
       "</style>\n",
       "<table border=\"1\" class=\"dataframe\">\n",
       "  <thead>\n",
       "    <tr style=\"text-align: right;\">\n",
       "      <th></th>\n",
       "      <th>MEDV</th>\n",
       "    </tr>\n",
       "  </thead>\n",
       "  <tbody>\n",
       "    <tr>\n",
       "      <th>0</th>\n",
       "      <td>24.0</td>\n",
       "    </tr>\n",
       "    <tr>\n",
       "      <th>1</th>\n",
       "      <td>21.6</td>\n",
       "    </tr>\n",
       "    <tr>\n",
       "      <th>2</th>\n",
       "      <td>34.7</td>\n",
       "    </tr>\n",
       "    <tr>\n",
       "      <th>3</th>\n",
       "      <td>33.4</td>\n",
       "    </tr>\n",
       "    <tr>\n",
       "      <th>4</th>\n",
       "      <td>36.2</td>\n",
       "    </tr>\n",
       "  </tbody>\n",
       "</table>\n",
       "</div>"
      ],
      "text/plain": [
       "   MEDV\n",
       "0  24.0\n",
       "1  21.6\n",
       "2  34.7\n",
       "3  33.4\n",
       "4  36.2"
      ]
     },
     "execution_count": 3,
     "metadata": {
      "tags": []
     },
     "output_type": "execute_result"
    }
   ],
   "source": [
    "df_boston_target = pd.DataFrame(data = dataset_boston.target, columns = ['MEDV'])\n",
    "df_boston_target.head()"
   ]
  },
  {
   "cell_type": "markdown",
   "metadata": {
    "id": "wDkG3E8rknzX"
   },
   "source": [
    "# Experiment 2\n",
    "\n",
    "Split the features and values into separate training and tests sets. Use 80% of the original data as a training set, and 20% for testing."
   ]
  },
  {
   "cell_type": "code",
   "execution_count": 4,
   "metadata": {
    "colab": {
     "base_uri": "https://localhost:8080/",
     "height": 85
    },
    "id": "xm0n8R_cknzY",
    "outputId": "897dcf76-d241-41d7-f56f-1bcc904996bd"
   },
   "outputs": [
    {
     "name": "stdout",
     "output_type": "stream",
     "text": [
      "(404, 13)\n",
      "(102, 13)\n",
      "(404, 1)\n",
      "(102, 1)\n"
     ]
    }
   ],
   "source": [
    "from sklearn.model_selection import train_test_split\n",
    "# shuffle and split the features and values into separate training and test sets.\n",
    "#use 80% of original data as a training set and 20% for testing.\n",
    "X_train, X_test, y_train, y_test = train_test_split(df_boston_features, df_boston_target, test_size = 0.2, random_state = 110)\n",
    "\n",
    "print(X_train.shape)\n",
    "print(X_test.shape)\n",
    "print(y_train.shape)\n",
    "print(y_test.shape)"
   ]
  },
  {
   "cell_type": "markdown",
   "metadata": {
    "id": "p6Tt3yL7knza"
   },
   "source": [
    "## Experiment 3\n",
    "\n",
    "Create a scatterplot of the training set showing the relationship between the feature LSTAT and the target value MEDV."
   ]
  },
  {
   "cell_type": "code",
   "execution_count": 5,
   "metadata": {
    "colab": {
     "base_uri": "https://localhost:8080/",
     "height": 565
    },
    "id": "JLV2zw70knzb",
    "outputId": "cd33ba83-9f51-4836-b5ba-19086bc1ac81"
   },
   "outputs": [
    {
     "data": {
      "text/plain": [
       "Text(0, 0.5, 'MEDV')"
      ]
     },
     "execution_count": 5,
     "metadata": {
      "tags": []
     },
     "output_type": "execute_result"
    },
    {
     "data": {
      "image/png": "[encoded data removed]",
      "text/plain": [
       "<Figure size 864x648 with 1 Axes>"
      ]
     },
     "metadata": {
      "tags": []
     },
     "output_type": "display_data"
    }
   ],
   "source": [
    "# Create scatter plot of the training set showing the relationship between the feature LSTAT and the target vaule MEDV\n",
    "%matplotlib inline\n",
    "import matplotlib.pyplot as plt\n",
    "plt.style.use('seaborn-whitegrid')\n",
    "\n",
    "lstat_train_feature = X_train[['LSTAT']]\n",
    "medv_train_target = y_train['MEDV']\n",
    "fig_size = plt.rcParams['figure.figsize']\n",
    "fig_size[0] = 12\n",
    "fig_size[1] = 9\n",
    "plt.rcParams['figure.figsize'] = fig_size\n",
    "plt.plot(lstat_train_feature, medv_train_target, 'o');\n",
    "\n",
    "plt.xlabel('LSTAT')\n",
    "plt.ylabel('MEDV')"
   ]
  },
  {
   "cell_type": "markdown",
   "metadata": {
    "id": "MKyQ9sSwknzd"
   },
   "source": [
    "#### Does the relationship appear to be linear?\n",
    "\n",
    "According to the scatter plot, the relationship between the training set feature LSTAT and training set target value MEDV does not appear to be linear. The scatter plot shows more of an exponential decay relationship with MEDV decreasing as LSTAT increases. "
   ]
  },
  {
   "cell_type": "markdown",
   "metadata": {
    "id": "BS2WZMnaknze"
   },
   "source": [
    "## Experiment 4\n",
    "\n",
    "With LSTAT as X and MEDV as t, compute w for the training set."
   ]
  },
  {
   "cell_type": "code",
   "execution_count": 6,
   "metadata": {
    "colab": {
     "base_uri": "https://localhost:8080/",
     "height": 34
    },
    "id": "tNt328ilknze",
    "outputId": "4b16511c-5bf3-431c-cc81-8540332d6b87"
   },
   "outputs": [
    {
     "name": "stdout",
     "output_type": "stream",
     "text": [
      "[34.70405552 -0.95881782]\n"
     ]
    }
   ],
   "source": [
    "import numpy as np\n",
    "\n",
    "x_ = lstat_train_feature[['LSTAT']]\n",
    "# print(x_.ndim)\n",
    "\n",
    "y_ = medv_train_target\n",
    "\n",
    "# construct objects\n",
    "X_ = np.hstack((np.ones_like(x_),x_))\n",
    "t_ = y_\n",
    "# compute w\n",
    "XX_ = np.dot(X_.T,X_)\n",
    "invXX_ = np.linalg.inv(XX_)\n",
    "Xt_ = np.dot(X_.T,t_)\n",
    "w = np.dot(invXX_,Xt_)\n",
    "print(w)"
   ]
  },
  {
   "cell_type": "markdown",
   "metadata": {
    "id": "EOi9_e6cknzj"
   },
   "source": [
    "#### The equation for MEDV as a linear function of LSTAT is:\n",
    "\n",
    "MEDV = 34.70405552 - 0.95881782(LSTAT)"
   ]
  },
  {
   "cell_type": "markdown",
   "metadata": {
    "id": "JdpSpZ65knzj"
   },
   "source": [
    "## Experiment 5\n",
    "\n",
    "Use w to add a line to your scatterplot from experiment (3)."
   ]
  },
  {
   "cell_type": "code",
   "execution_count": 7,
   "metadata": {
    "colab": {
     "base_uri": "https://localhost:8080/",
     "height": 565
    },
    "id": "4-Tlt0bCknzk",
    "outputId": "48b0bc70-6dd4-4e92-a94d-a83f0315e24d",
    "scrolled": false
   },
   "outputs": [
    {
     "data": {
      "text/plain": [
       "<matplotlib.legend.Legend at 0x7f3d69c497f0>"
      ]
     },
     "execution_count": 7,
     "metadata": {
      "tags": []
     },
     "output_type": "execute_result"
    },
    {
     "data": {
      "image/png": "[encoded data removed]",
      "text/plain": [
       "<Figure size 864x648 with 1 Axes>"
      ]
     },
     "metadata": {
      "tags": []
     },
     "output_type": "display_data"
    }
   ],
   "source": [
    "X_train_predict = np.dot(X_, w)\n",
    "\n",
    "fig, newplt = plt.subplots()\n",
    "fig_size = plt.rcParams['figure.figsize']\n",
    "fig_size[0] = 12\n",
    "fig_size[1] = 9\n",
    "plt.rcParams['figure.figsize'] = fig_size\n",
    "newplt.plot(lstat_train_feature, medv_train_target, 'o', label = 'MEDV vs LSTAT');\n",
    "newplt.plot(x_, X_train_predict, 'r-', label = 'Linear Prediction')\n",
    "\n",
    "plt.xlabel('LSTAT')\n",
    "plt.ylabel('MEDV')\n",
    "newplt.legend()"
   ]
  },
  {
   "cell_type": "markdown",
   "metadata": {
    "id": "E-UCUkphknzm"
   },
   "source": [
    "#### How well does the model appear to fit the training set?\n",
    "\n",
    "The model seems to fit the training set in the LSTAT range of 5 to 30. But overall the model does not fit the training set due to the relationship between the feature LSTAT and the target value MEDV being non-linear with MEDV decreasing as LSTAT increases."
   ]
  },
  {
   "cell_type": "markdown",
   "metadata": {
    "id": "a0YDrSiSknzn"
   },
   "source": [
    "## Experiment 6\n",
    "\n",
    "Use w to find the response for each value of the LSTAT attribute in the test set, then compute the etst MSE for the model."
   ]
  },
  {
   "cell_type": "code",
   "execution_count": 8,
   "metadata": {
    "id": "r3KwInSkknzn",
    "scrolled": false
   },
   "outputs": [],
   "source": [
    "lstat_test = X_test[['LSTAT']]\n",
    "t_test = y_test['MEDV']\n",
    "\n",
    "X_lstat_test = np.hstack((np.ones_like(lstat_test),lstat_test))\n",
    "\n",
    "test_predict = np.dot(X_lstat_test, w)"
   ]
  },
  {
   "cell_type": "code",
   "execution_count": 9,
   "metadata": {
    "colab": {
     "base_uri": "https://localhost:8080/",
     "height": 68
    },
    "id": "6LNOuSOyknzp",
    "outputId": "e077d08b-bcb7-4d67-d04d-c24573ce45c5"
   },
   "outputs": [
    {
     "name": "stdout",
     "output_type": "stream",
     "text": [
      "The test MSE for the linear model is:\n",
      "\n",
      "25.381927457912873\n"
     ]
    }
   ],
   "source": [
    "test_mse = np.square(np.subtract(t_test,test_predict)).mean()\n",
    "print('The test MSE for the linear model is:')\n",
    "print()\n",
    "print(test_mse)"
   ]
  },
  {
   "cell_type": "markdown",
   "metadata": {
    "id": "HH_CgzhMknzs"
   },
   "source": [
    "## Experiment 7\n",
    "\n",
    "Now add an $ x^2$ column to LSTAT's x column in the training set, then repeat experiments (4),(5), a (6) for MEDV as a quadratic function of LSTAT."
   ]
  },
  {
   "cell_type": "code",
   "execution_count": 10,
   "metadata": {
    "id": "ctZJ32l8knzs"
   },
   "outputs": [],
   "source": [
    "# Add an x^2 column to LSTAT's x column in the training set.\n",
    "X_train_quad = np.hstack((np.ones_like(x_),x_, x_**2))"
   ]
  },
  {
   "cell_type": "code",
   "execution_count": 11,
   "metadata": {
    "colab": {
     "base_uri": "https://localhost:8080/",
     "height": 34
    },
    "id": "Oq0u-fWLknzv",
    "outputId": "b20186fc-f3b8-4c8e-f9cb-65fa6ddd3052"
   },
   "outputs": [
    {
     "name": "stdout",
     "output_type": "stream",
     "text": [
      "[43.40127711 -2.40225248  0.04494442]\n"
     ]
    }
   ],
   "source": [
    "# 7 - ().Repeat experiment (4)\n",
    "XX_train_quad = np.dot(X_train_quad.T,X_train_quad)\n",
    "invXX_train_quad = np.linalg.inv(XX_train_quad)\n",
    "Xt_train_quad = np.dot(X_train_quad.T, t_)\n",
    "w_quad = np.dot(invXX_train_quad, Xt_train_quad)\n",
    "print(w_quad)"
   ]
  },
  {
   "cell_type": "markdown",
   "metadata": {
    "id": "oBmpdvEoknzx"
   },
   "source": [
    "The equation for MEDV as a quadratic function of LSTAT is:\n",
    "\n",
    "MEDV = 43.40127711 - 2.40225248(LSTAT)  +  0.04494442(LSTAT)$^2$ "
   ]
  },
  {
   "cell_type": "code",
   "execution_count": 12,
   "metadata": {
    "colab": {
     "base_uri": "https://localhost:8080/",
     "height": 565
    },
    "id": "Gvj1ma9Jknzy",
    "outputId": "cfceeb91-dd3b-465b-9545-e26604be2b4b"
   },
   "outputs": [
    {
     "data": {
      "text/plain": [
       "<matplotlib.legend.Legend at 0x7f3d6613dac8>"
      ]
     },
     "execution_count": 12,
     "metadata": {
      "tags": []
     },
     "output_type": "execute_result"
    },
    {
     "data": {
      "image/png": "[encoded data removed]",
      "text/plain": [
       "<Figure size 864x648 with 1 Axes>"
      ]
     },
     "metadata": {
      "tags": []
     },
     "output_type": "display_data"
    }
   ],
   "source": [
    "# 7 - Repeat experiment (5)\n",
    "train_quad_predict = np.dot(X_train_quad, w_quad)\n",
    "\n",
    "fig, newplt = plt.subplots()\n",
    "fig_size = plt.rcParams['figure.figsize']\n",
    "fig_size[0] = 12\n",
    "fig_size[1] = 9\n",
    "plt.rcParams['figure.figsize'] = fig_size\n",
    "newplt.plot(lstat_train_feature, medv_train_target, 'o', label = 'MEDV vs LSTAT');\n",
    "newplt.plot(x_, train_quad_predict, 'r.', label = 'Quadratic Prediction')\n",
    "\n",
    "plt.xlabel('LSTAT')\n",
    "plt.ylabel('MEDV')\n",
    "newplt.legend()"
   ]
  },
  {
   "cell_type": "markdown",
   "metadata": {
    "id": "Xb6eT-uEknz0"
   },
   "source": [
    "How well does the quadratic model appear fit the training set?\n",
    "\n",
    "The quadratic model appears to fit the training set well, somewhat matching the shape of the training set."
   ]
  },
  {
   "cell_type": "code",
   "execution_count": 13,
   "metadata": {
    "colab": {
     "base_uri": "https://localhost:8080/",
     "height": 68
    },
    "id": "D6imSZ_wknz1",
    "outputId": "ee3a4856-7402-42e2-a770-8071630091df"
   },
   "outputs": [
    {
     "name": "stdout",
     "output_type": "stream",
     "text": [
      "The test MSE for the quadratic model is:\n",
      "\n",
      "21.450165503742237\n"
     ]
    }
   ],
   "source": [
    "# 7 - Repeat experiment (6)\n",
    "x_quad_test = X_test[['LSTAT']]\n",
    "t_test = y_test['MEDV']\n",
    "\n",
    "X_quad_test = np.hstack((np.ones_like(x_quad_test),x_quad_test, x_quad_test**2))\n",
    "\n",
    "test_quad_predict = np.dot(X_quad_test, w_quad)\n",
    "\n",
    "# Compute the test MSE\n",
    "test_mse_quad = np.square(np.subtract(t_test,test_quad_predict)).mean()\n",
    "print('The test MSE for the quadratic model is:')\n",
    "print()\n",
    "print(test_mse_quad)"
   ]
  },
  {
   "cell_type": "markdown",
   "metadata": {
    "id": "ChBidSqYknz4"
   },
   "source": [
    "#### Does the quadratic polynomial do a better job of predicitng the values in the test set?\n",
    "\n",
    "Yes, the quadratic polynomial does a better job of predicting the values in the test set.\n",
    "Comparing the test MSE of the linear model and the test MSE of the quadratic model:\n",
    "\n",
    "The linear model MSE: 25.381927457912862\n",
    "The quadratic model MSE: 21.450165503742223\n",
    "\n",
    "The test MSE of the quadratic model is smaller (although not by a large amount) therefore it does a better job of predicting values in the test data set. "
   ]
  },
  {
   "cell_type": "markdown",
   "metadata": {
    "id": "0N3jev-uknz5"
   },
   "source": [
    "## Experiment 8\n",
    "\n",
    "Repeat experiment (4) with all the 13 input features as X and using np.linalg.lstsq().\n",
    "Does adding additional features improve the performance on the test set compared to using only LSTAT?"
   ]
  },
  {
   "cell_type": "code",
   "execution_count": 14,
   "metadata": {
    "colab": {
     "base_uri": "https://localhost:8080/",
     "height": 119
    },
    "id": "N1xic7Q_knz5",
    "outputId": "869015d3-f79a-4f9f-a99b-edea497ec2fa"
   },
   "outputs": [
    {
     "name": "stdout",
     "output_type": "stream",
     "text": [
      "[ 3.99848153e+01 -1.08427766e-01  5.38630021e-02  7.35469481e-03\n",
      "  2.82548411e+00 -1.94510492e+01  3.58598703e+00  2.43424536e-03\n",
      " -1.63885404e+00  2.86401116e-01 -1.07987882e-02 -1.04138289e+00\n",
      "  1.11007916e-02 -5.30004529e-01]\n",
      "\n",
      "[9439.54036387]\n"
     ]
    }
   ],
   "source": [
    "# 8 - (4)\n",
    "train_all_features = X_train\n",
    "x_train_all = train_all_features[['CRIM', 'ZN', 'INDUS', 'CHAS', 'NOX', 'RM', 'AGE', 'DIS', 'RAD', 'TAX', 'PTRATIO', 'B', 'LSTAT'\n",
    "]].to_numpy()\n",
    "\n",
    "t_train_all = y_train['MEDV']\n",
    "\n",
    "# Construct objects.\n",
    "X_train_all = np.hstack((np.ones((x_train_all.shape[0],1)),x_train_all))\n",
    "\n",
    "# compute w\n",
    "w_all, residuals, _, _ = np.linalg.lstsq(X_train_all,t_train_all, rcond = None)\n",
    "print(w_all)\n",
    "print()\n",
    "print(residuals)"
   ]
  },
  {
   "cell_type": "markdown",
   "metadata": {
    "id": "_V5GUkSSknz8"
   },
   "source": [
    "#### What is the equation for MEDV as a linear function of all features?\n",
    "\n",
    "MEDV = 3.99848153e+01 + -1.08427766e-01(CRIM) + 5.38630021e-02(ZN) + 7.35469481e-03(INDUS)+\n",
    "2.82548411e+00(CHAS) + -1.94510492e+01(NOX) + 3.58598703e+00(RM) + 2.43424536e-03(AGE) + \n",
    "-1.63885404e+00(DIS) + 2.86401116e-01(RAD) + -1.07987882e-02(TAX) + \n",
    "-1.04138289e+00(PTRATIO) + 1.11007916e-02(B) + -5.30004529e-01(LSTAT)"
   ]
  },
  {
   "cell_type": "code",
   "execution_count": 15,
   "metadata": {
    "colab": {
     "base_uri": "https://localhost:8080/",
     "height": 68
    },
    "id": "n0U0f-6aknz8",
    "outputId": "240aef1e-8597-4277-f803-5959d0e50c37"
   },
   "outputs": [
    {
     "name": "stdout",
     "output_type": "stream",
     "text": [
      "The test MSE for the model is:\n",
      "\n",
      "16.6536463212634\n"
     ]
    }
   ],
   "source": [
    "# 8 - (6)\n",
    "\n",
    "test_all_features = X_test\n",
    "\n",
    "x_test_all = test_all_features[['CRIM', 'ZN', 'INDUS', 'CHAS', 'NOX', 'RM', 'AGE', 'DIS', 'RAD', 'TAX', 'PTRATIO', 'B', 'LSTAT'\n",
    "]].to_numpy()\n",
    "\n",
    "t_test_all = y_test['MEDV']\n",
    "\n",
    "# Construct objects.\n",
    "X_test_all = np.hstack((np.ones((x_test_all.shape[0], 1)), x_test_all))\n",
    "\n",
    "test_all_predict = np.dot(X_test_all, w_all)\n",
    "\n",
    "test_all_mse = np.square(np.subtract(t_test_all,test_all_predict)).mean()\n",
    "print('The test MSE for the model is:')\n",
    "print()\n",
    "print(test_all_mse)"
   ]
  },
  {
   "cell_type": "markdown",
   "metadata": {
    "id": "DYn1sSG7kn0B"
   },
   "source": [
    "#### Does adding additional features improve the performance on the test set compared to using LSTAT?\n",
    "\n",
    "Comparing the LSTAT linear model MSE and the full feature linear model MSE:\n",
    "\n",
    "LSTAT linear model MSE = 25.381927457912862\n",
    "\n",
    "All feature linear model MSE = 16.6536463212634\n",
    "\n",
    "Yes adding the additional features improves the performance on the test set compared to only having LSTAT as the only feature."
   ]
  },
  {
   "cell_type": "markdown",
   "metadata": {
    "id": "z8lV-xl0kn0B"
   },
   "source": [
    "## Experiment 9\n",
    "\n",
    "Now add $ x^2$ columns for all 13 features, and repeat experiment (8)."
   ]
  },
  {
   "cell_type": "code",
   "execution_count": 16,
   "metadata": {
    "colab": {
     "base_uri": "https://localhost:8080/",
     "height": 136
    },
    "id": "iH8YJ2Ygkn0C",
    "outputId": "2d2fb8e2-3969-495c-a33f-7b2c5b1da289"
   },
   "outputs": [
    {
     "name": "stdout",
     "output_type": "stream",
     "text": [
      "[ 1.67891284e+02 -3.74639223e-01 -7.16103326e-02 -2.15073416e-01\n",
      "  1.38838080e+00 -2.53563834e+01 -1.77113943e+01 -2.21583773e-02\n",
      " -2.93220355e+00  7.13472334e-01 -3.07582302e-02 -5.96022745e+00\n",
      "  2.08233011e-02 -1.33840659e+00  3.01435296e-03  9.06954189e-04\n",
      "  9.33325143e-03  1.38838080e+00 -8.10394853e-01  1.60477683e+00\n",
      "  1.78023343e-04  1.60995144e-01 -1.32962683e-02  2.29275764e-05\n",
      "  1.42820511e-01 -3.31686452e-05  2.27595365e-02]\n"
     ]
    }
   ],
   "source": [
    "# 9 - (8 -> 4)\n",
    "X = np.hstack((np.ones((X_train[['LSTAT']].size, 1)),\n",
    "               X_train.values,\n",
    "               np.power(X_train.values, 2)))\n",
    "\n",
    "w = np.linalg.lstsq(X, y_train, rcond=None)[0]\n",
    "\n",
    "print(w.T[0])"
   ]
  },
  {
   "cell_type": "markdown",
   "metadata": {
    "id": "nTyMNyawkn0G"
   },
   "source": [
    "#### What is the equation for MEDV as a (quadratic) function of all features?\n",
    "\n",
    "MEDV = 1.67891284e+02 + -3.74639223e-01(CRIM)+ -7.16103326e-02(ZN)+ -2.15073416e-01(INDUS)+\n",
    "  1.38838080e+00(CHAS)+ -2.53563834e+01(NOX)+ -1.77113943e+01(RM)+ -2.21583773e-02(AGE)+\n",
    " -2.93220355e+00(DIS)+ 7.13472334e-01(RAD)+ -3.07582302e-02(TAX)+ -5.96022745e+00(PTRATIO)+\n",
    "  2.08233011e-02(B)+ -1.33840659e+00(LSTAT)+ 3.01435296e-03$(CRIM)^2$+ 9.06954189e-04$(ZN)^2$+\n",
    "  9.33325143e-03$(INDUS)^2$+ 1.38838080e+00$(CHAS)^2$+ -8.10394853e-01$(NOX)^2$+ 1.60477683e+00$(RM)^2$+\n",
    "  1.78023343e-04$(AGE)^2$+ 1.60995144e-01$(DIS)^2$+ -1.32962683e-02$(RAD)^2$+ 2.29275764e-05$(TAX)^2$+\n",
    "  1.42820511e-01$(PTRATIO)^2$+ -3.31686452e-05$(B)^2$+ 2.27595365e-02$(LSTAT)^2$\n"
   ]
  },
  {
   "cell_type": "code",
   "execution_count": 17,
   "metadata": {
    "colab": {
     "base_uri": "https://localhost:8080/",
     "height": 68
    },
    "id": "b62pyfKfkn0G",
    "outputId": "0500f550-9ff6-46f9-bcfc-db0ed4f101c6"
   },
   "outputs": [
    {
     "name": "stdout",
     "output_type": "stream",
     "text": [
      "The test MSE for the model is:\n",
      "\n",
      "9.371254497571226\n"
     ]
    }
   ],
   "source": [
    "# 9 - (8 -> 6)\n",
    "response = np.array([(w[0] + np.sum(np.dot(w[1:14].T, x))+\n",
    "                      np.sum(np.dot(w[14:].T, np.power(x, 2))))\n",
    "                     for x in X_test.values])\n",
    "\n",
    "MSE = np.sum(np.power(response - y_test.values, 2))/response.size\n",
    "print(\"The test MSE for the model is:\")\n",
    "print()\n",
    "print(MSE)"
   ]
  },
  {
   "cell_type": "markdown",
   "metadata": {
    "id": "aHb24CAikn0J"
   },
   "source": [
    "#### Does adding additional features improve the performance on the test set compared to using LSTAT?\n",
    "\n",
    "Comparing the LSTAT (quadratic) model MSE and the full feature (quadratic) model MSE:\n",
    "\n",
    "LSTAT quadratic model MSE = 21.450165503742223\n",
    "\n",
    "All feature quadratic model MSE = 9.371254497569367\n",
    "\n",
    "Yes adding the additional features improves the performance on the quadratic test set compared to having LSTAT as the only feature."
   ]
  },
  {
   "cell_type": "markdown",
   "metadata": {
    "id": "7CftPUyEkn0J"
   },
   "source": [
    "#### Does adding quadratic features improve the performance on the test set compared to using only linear features?\n",
    "\n",
    "Comparing the full feature linear model MSE and the full feature quadratic model MSE:\n",
    "\n",
    "All feature linear model MSE = 16.6536463212634\n",
    "\n",
    "All feature quadratic model MSE = 9.371254497569367\n",
    "\n",
    "Yes, adding quadratic features appears to improve the performance on the test set compared to using only linear features."
   ]
  },
  {
   "cell_type": "markdown",
   "metadata": {
    "id": "RbUGfEVlkn0J"
   },
   "source": [
    "## Experiment 10\n",
    "\n",
    "Compute the training MSE for experiments (8) and (9) and compare it to the test MSE. "
   ]
  },
  {
   "cell_type": "code",
   "execution_count": 18,
   "metadata": {
    "colab": {
     "base_uri": "https://localhost:8080/",
     "height": 153
    },
    "id": "GL9Henihkn0K",
    "outputId": "32eb1845-8def-4e65-ec7c-cb8a3eefa683"
   },
   "outputs": [
    {
     "name": "stdout",
     "output_type": "stream",
     "text": [
      "The training MSE for the linear model is:\n",
      "\n",
      "23.365198920460042\n",
      "\n",
      "\n",
      "The training MSE for the quadratic model is:\n",
      "\n",
      "15.64696972236315\n"
     ]
    }
   ],
   "source": [
    "#train on linear (8)\n",
    "X = np.hstack((np.ones((X_train[['LSTAT']].size, 1)),\n",
    "               X_train.values))\n",
    "\n",
    "w = np.linalg.lstsq(X, y_train, rcond=None)[0]\n",
    "\n",
    "response = np.array([(w[0] + np.sum(np.dot(w[1:].T, x)))\n",
    "                     for x in X_train.values])\n",
    "\n",
    "MSE = np.sum(np.power(response - y_train.values, 2))/response.size\n",
    "print(\"The training MSE for the linear model is:\")\n",
    "print()\n",
    "print(MSE)\n",
    "\n",
    "print()\n",
    "print()\n",
    "#train on quadratic (9)\n",
    "X = np.hstack((np.ones((X_train[['LSTAT']].size, 1)),\n",
    "               X_train.values,\n",
    "               np.power(X_train.values, 2)))\n",
    "\n",
    "w = np.linalg.lstsq(X, y_train, rcond=None)[0]\n",
    "\n",
    "response = np.array([(w[0] + np.sum(np.dot(w[1:14].T, x)) +\n",
    "                      np.sum(np.dot(w[14:].T, np.power(x, 2))))\n",
    "                     for x in X_train.values])\n",
    "\n",
    "MSE = np.sum(np.power(response - y_train.values, 2))/response.size\n",
    "print(\"The training MSE for the quadratic model is:\")\n",
    "print()\n",
    "print(MSE)"
   ]
  },
  {
   "cell_type": "markdown",
   "metadata": {
    "id": "2fB3skCCkn0M"
   },
   "source": [
    "#### What explains the difference?\n",
    "\n",
    "Comparing the test MSE(below) to the training MSE(above):\n",
    "\n",
    "Test MSE for the linear model is: 16.6536463212634\n",
    "\n",
    "Test MSE for the quadratic model is: 9.371254497569367\n",
    "\n",
    "The difference  the two training MSEs is explained by the fact that increasing the order of the polynomial produces a more flexible, better fitting model on training data, thus we see a reduction in training MSE when comparing the linear model to the quadratic model. The difference between the training and the test MSEs for both models may be explained by being better predictors as the polynomial order for the model increases."
   ]
  },
  {
   "cell_type": "markdown",
   "metadata": {
    "id": "DiVL-ql5kn0M"
   },
   "source": [
    "## Experiement 11\n",
    "\n",
    "Repeat experiments (9) and (10), adding $x^3$ columns in addition to the x and $x^2$ columns for each feature. "
   ]
  },
  {
   "cell_type": "code",
   "execution_count": 19,
   "metadata": {
    "colab": {
     "base_uri": "https://localhost:8080/",
     "height": 187
    },
    "id": "U6MNQJFLkn0N",
    "outputId": "74fb5767-06e5-4ca3-f1c0-639b65b0b9e9"
   },
   "outputs": [
    {
     "name": "stdout",
     "output_type": "stream",
     "text": [
      "[ 1.78723522e+02 -7.31099664e-01  1.01817478e-03 -4.30689735e-01\n",
      "  9.09750931e-01  4.05561128e+02 -1.67409640e+01  9.13681117e-02\n",
      " -7.41054634e+00  1.63588022e+00 -2.34989236e-01 -1.86023854e+01\n",
      " -2.62741715e-02 -1.97643757e+00  1.43878311e-02 -1.05702253e-03\n",
      "  4.30402740e-02  9.09750915e-01 -6.91053335e+02  1.47808891e+00\n",
      " -1.98287058e-03  1.06179001e+00 -1.59138776e-01  5.30065748e-04\n",
      "  9.02755910e-01  2.46607204e-04  6.80384097e-02 -9.20490068e-05\n",
      "  1.44099478e-05 -1.21339799e-03  9.09750910e-01  3.56394701e+02\n",
      "  6.67231041e-03  1.13348390e-05 -5.13191332e-02  4.39917010e-03\n",
      " -3.70717048e-07 -1.48711060e-02 -4.31821618e-07 -8.56960199e-04]\n"
     ]
    }
   ],
   "source": [
    "#test on cubic repeat (11 - (9->8->4))\n",
    "X = np.hstack((np.ones((X_train[['LSTAT']].size, 1)),\n",
    "               X_train.values,\n",
    "               np.power(X_train.values, 2),\n",
    "               np.power(X_train.values, 3)))\n",
    "\n",
    "w = np.linalg.lstsq(X, y_train, rcond=None)[0]\n",
    "\n",
    "print(w.T[0])"
   ]
  },
  {
   "cell_type": "markdown",
   "metadata": {
    "id": "0meBp6Y_kn0P"
   },
   "source": [
    "#### What is the equation for MEDV as a (cubic) function of all features?\n",
    "\n",
    "MEDV = 1.78723522e+02+ -7.31099664e-01(CRIM)+  1.01817479e-03(ZN)+ -4.30689736e-01(INDUS)+\n",
    "  9.09751583e-01(CHAS)+  4.05561128e+02(NOX)+ -1.67409640e+01(RM)+  9.13681117e-02(AGE)+\n",
    " -7.41054634e+00(DIS)+  1.63588022e+00(RAD)+ -2.34989236e-01(TAX)+ -1.86023854e+01(PTRATIO)+\n",
    " -2.62741715e-02(B)+ -1.97643757e+00(LSTAT)+  1.43878311e-02$(CRIM)^2$+ -1.05702253e-03$(ZN)^2$+\n",
    "  4.30402741e-02$(INDUS)^2$+  9.09750588e-01$(CHAS)^2$+ -6.91053335e+02$(NOX)^2$+  1.47808891e+00$(RM)^2$+\n",
    " -1.98287058e-03$(AGE)^2$+  1.06179001e+00$(DIS)^2$+ -1.59138776e-01$(RAD)^2$+  5.30065748e-04$(TAX)^2$+\n",
    "  9.02755910e-01$(PTRATIO)^2$+  2.46607204e-04$(B)^2$+  6.80384097e-02$(LSTAT)^2$+ -9.20490068e-05$(CRIM)^3$+\n",
    "  1.44099477e-05$(ZN)^3$+ -1.21339799e-03$(INDUS)^3$+  9.09750584e-01$(CHAS)^3$+  3.56394701e+02$(NOX)^3$+\n",
    "  6.67231040e-03$(RM)^3$+  1.13348390e-05$(AGE)^3$+ -5.13191332e-02$(DIS)^3$+  4.39917010e-03$(RAD)^3$+\n",
    " -3.70717047e-07$(TAX)^3$+ -1.48711060e-02$(PTRATIO)^3$+ -4.31821618e-07$(B)^3$+ -8.56960199e-04$(LSTAT)^3$"
   ]
  },
  {
   "cell_type": "code",
   "execution_count": 20,
   "metadata": {
    "colab": {
     "base_uri": "https://localhost:8080/",
     "height": 153
    },
    "id": "IV2wyb36kn0P",
    "outputId": "6f757bb6-457b-4b9f-d9ce-30fd7115b77e"
   },
   "outputs": [
    {
     "name": "stdout",
     "output_type": "stream",
     "text": [
      "The test MSE for the cubic model on LSTAT only is:\n",
      "\n",
      "21.872761492382445\n",
      "\n",
      "\n",
      "The test MSE for the cubic model is:\n",
      "\n",
      "9.862470699591501\n"
     ]
    }
   ],
   "source": [
    "#test on cubic LSTAT repeat (11 - (9->8->6))\n",
    "\n",
    "X2 = np.hstack((np.ones((X_train[['LSTAT']].size, 1)),\n",
    "               X_train[['LSTAT']].values,\n",
    "               np.power(X_train[['LSTAT']].values, 2),\n",
    "               np.power(X_train[['LSTAT']].values, 3)))\n",
    "\n",
    "w2 = np.dot(np.linalg.inv(np.dot(X2.T, X2)), \n",
    "            np.dot(X2.T, y_train))\n",
    "\n",
    "response2 = np.array([(w2[0] + w2[1] * x+\n",
    "                      w2[2]* np.power(x, 2)+\n",
    "                      w2[3]* np.power(x, 3))\n",
    "                    for x in X_test[['LSTAT']].values])\n",
    "\n",
    "MSE2 = np.sum(np.power(response2 - y_test.values, 2))/response2.size\n",
    "print(\"The test MSE for the cubic model on LSTAT only is:\")\n",
    "print()\n",
    "print(MSE2)\n",
    "\n",
    "### test on cubic all\n",
    "print()\n",
    "print()\n",
    "response = np.array([(w[0] + np.sum(np.dot(w[1:14].T, x))+\n",
    "                      np.sum(np.dot(w[14:27].T, np.power(x, 2)))+\n",
    "                      np.sum(np.dot(w[27:].T, np.power(x, 3))))\n",
    "                    for x in X_test.values])\n",
    "\n",
    "MSE = np.sum(np.power(response - y_test.values, 2))/response.size\n",
    "print(\"The test MSE for the cubic model is:\")\n",
    "print()\n",
    "print(MSE)"
   ]
  },
  {
   "cell_type": "markdown",
   "metadata": {
    "id": "PGC3VYGPkn0S"
   },
   "source": [
    "#### Does adding additional features improve the performance on the test set compared to using LSTAT?\n",
    "\n",
    "Comparing the LSTAT cubic model MSE and the full feature cubic model MSE:\n",
    "\n",
    "LSTAT cubic model MSE = 21.872761492382445\n",
    "\n",
    "All feature cubic model MSE = 9.862470674485524\n",
    "\n",
    "Yes adding the additional features improves the performance on the cubic test set compared to having LSTAT as the only feature."
   ]
  },
  {
   "cell_type": "code",
   "execution_count": 21,
   "metadata": {
    "colab": {
     "base_uri": "https://localhost:8080/",
     "height": 68
    },
    "id": "rO4C1AmEkn0S",
    "outputId": "ad59bdd0-a0ba-4f23-bdd3-644c89578cb0"
   },
   "outputs": [
    {
     "name": "stdout",
     "output_type": "stream",
     "text": [
      "The training MSE for the cubic model is:\n",
      "\n",
      "14.116504311609702\n"
     ]
    }
   ],
   "source": [
    "#train on cubic (10)\n",
    "response = np.array([(w[0] + np.sum(np.dot(w[1:14].T, x))+\n",
    "                      np.sum(np.dot(w[14:27].T, np.power(x, 2)))+\n",
    "                      np.sum(np.dot(w[27:].T, np.power(x, 3))))\n",
    "                    for x in X_train.values])\n",
    "\n",
    "MSE = np.sum(np.power(response - y_train.values, 2))/response.size\n",
    "print(\"The training MSE for the cubic model is:\")\n",
    "print()\n",
    "print(MSE)"
   ]
  },
  {
   "cell_type": "markdown",
   "metadata": {
    "id": "DruLwtqLkn0U"
   },
   "source": [
    "#### What explains the difference?\n",
    "\n",
    "Comparing the test MSE to the training MSE:\n",
    "\n",
    "Test MSE for the linear model is: 16.6536463212634\n",
    "\n",
    "Test MSE for the quadratic model is: 9.371254497569367\n",
    "\n",
    "Test MSE for the cubic model is: 9.862470674485524\n",
    "\n",
    "Training MSE for the linear model is: 23.365198920460042\n",
    "\n",
    "Training MSE for the quadratic model is: 15.64696972236317\n",
    "\n",
    "Training MSE for the cubic model is:14.11650431160973\n",
    "\n",
    "The difference  the three training MSEs is explained by the fact that increasing the order of the polynomial produces a more flexible, better fitting model on training data,  as mentioned before. The difference between the training and the test MSEs for all models may be explained by the quadratic model being the best predictor because we begin to see a slight increase in MSE when we shift from a quadratic to a cubic model."
   ]
  },
  {
   "cell_type": "markdown",
   "metadata": {
    "id": "_Q2-t834kn0V"
   },
   "source": [
    "#### Does the cubic polynomial do a better job of predicting the values in the training set? Does it do a better job of predicting the values in the test set?\n",
    "\n",
    "The cubic model does a better job of predicting the values in the training set compared to  the linear and quadratic models, and this is expected because increasing the order allows for the model the better fit the data. However, we begin to see an increase in the test MSE for cubic when compared to the quadratic suggesting that it is not as good of a predictor as the quadratic model."
   ]
  }
 ],
 "metadata": {
  "colab": {
   "collapsed_sections": [],
   "name": "cpsc483-01_project2.ipynb",
   "provenance": []
  },
  "kernelspec": {
   "display_name": "Python 3",
   "language": "python",
   "name": "python3"
  },
  "language_info": {
   "codemirror_mode": {
    "name": "ipython",
    "version": 3
   },
   "file_extension": ".py",
   "mimetype": "text/x-python",
   "name": "python",
   "nbconvert_exporter": "python",
   "pygments_lexer": "ipython3",
   "version": "3.8.8"
  },
  "toc": {
   "base_numbering": 1,
   "nav_menu": {},
   "number_sections": true,
   "sideBar": true,
   "skip_h1_title": false,
   "title_cell": "Table of Contents",
   "title_sidebar": "Contents",
   "toc_cell": false,
   "toc_position": {},
   "toc_section_display": true,
   "toc_window_display": false
  },
  "varInspector": {
   "cols": {
    "lenName": 16,
    "lenType": 16,
    "lenVar": 40
   },
   "kernels_config": {
    "python": {
     "delete_cmd_postfix": "",
     "delete_cmd_prefix": "del ",
     "library": "var_list.py",
     "varRefreshCmd": "print(var_dic_list())"
    },
    "r": {
     "delete_cmd_postfix": ") ",
     "delete_cmd_prefix": "rm(",
     "library": "var_list.r",
     "varRefreshCmd": "cat(var_dic_list()) "
    }
   },
   "types_to_exclude": [
    "module",
    "function",
    "builtin_function_or_method",
    "instance",
    "_Feature"
   ],
   "window_display": false
  }
 },
 "nbformat": 4,
 "nbformat_minor": 1
}
